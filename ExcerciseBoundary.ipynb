{
 "cells": [
  {
   "cell_type": "code",
   "execution_count": 1,
   "metadata": {},
   "outputs": [
    {
     "name": "stdout",
     "output_type": "stream",
     "text": [
      "u : 1.023\n",
      "d : 0.978\n",
      "z : 0.0015\n",
      "Prob.of upmove : 0.528\n",
      "Prob.of downmove : 0.472\n"
     ]
    }
   ],
   "source": [
    "from math import exp, sqrt\n",
    "import numpy as np\n",
    "import matplotlib.pyplot as plt\n",
    "from pandas.tools.plotting import scatter_matrix\n",
    "import pylab\n",
    "\n",
    "\n",
    "So = 100\n",
    "r = 0.03\n",
    "T = 1.0\n",
    "n=20\n",
    "k = 100\n",
    "sig = 0.1\n",
    "\n",
    "\n",
    "u = exp(sig/(sqrt(n)))\n",
    "print(\"u :\", format(u,'.3f'))\n",
    "\n",
    "d = exp((-1*sig)/(sqrt(n)))\n",
    "print(\"d :\", format(d,'.3f'))\n",
    "\n",
    "# combined  variable\n",
    "\n",
    "z=r*T/n\n",
    "print(\"z :\", z)\n",
    "# q: probablity of upmove, s: probablity of downmove\n",
    "q=(exp(z)-d)/(u-d)\n",
    "print(\"Prob.of upmove :\", format(q,'.3f'))\n",
    "s=1-q\n",
    "print(\"Prob.of downmove :\",format(s,'.3f'))\n",
    "\n",
    "\n",
    "\n",
    "\n",
    "\n",
    "\n",
    "\n",
    "##OpPriceNode\n",
    "#OpPriceNode = np.transpose(DisMat)*H\n",
    "\n",
    "#print(\"Option prices\")\n",
    "#print(OpPriceNode)\n"
   ]
  },
  {
   "cell_type": "code",
   "execution_count": 2,
   "metadata": {
    "collapsed": true
   },
   "outputs": [],
   "source": [
    "#Define SS matrix\n",
    "\n",
    "SS = [] \n",
    "\n",
    "for i in range((n)+1):\n",
    "    SS.append([])\n",
    "    for j in range((n)+1):\n",
    "        SS[i].append(0)\n",
    "    \n",
    "for i in range((n)+1):\n",
    "    for j in range(i+1):\n",
    "        SS[i][j] = d**(i-j)*u**(j)\n"
   ]
  },
  {
   "cell_type": "code",
   "execution_count": 3,
   "metadata": {
    "collapsed": true
   },
   "outputs": [],
   "source": [
    "#Binomial Asset Prices \n",
    "PriceNodes = So*np.array(SS)"
   ]
  },
  {
   "cell_type": "code",
   "execution_count": 4,
   "metadata": {
    "collapsed": true
   },
   "outputs": [],
   "source": [
    "#Payoff Matrix\n",
    "H0 = [] \n",
    "H1 = []\n",
    "\n",
    "for i in range((n)+1):\n",
    "    H0.append([])\n",
    "    H1.append([])\n",
    "    for j in range((n)+1):\n",
    "        H0[i].append(0)\n",
    "        H1[i].append(0)\n",
    "    \n",
    "for i in range((n)+1):\n",
    "    for j in range(i+1):\n",
    "            H0[i][j] = max(PriceNodes[i][j]-k,0) #call\n",
    "            H1[i][j] = max(k-PriceNodes[i][j],0) #put"
   ]
  },
  {
   "cell_type": "code",
   "execution_count": 5,
   "metadata": {
    "collapsed": true,
    "scrolled": true
   },
   "outputs": [],
   "source": [
    "#European Option Node price\n",
    "PriceNodeEurCall = np.zeros(((n)+1,(n)+1))\n",
    "PriceNodeEurPut = np.zeros(((n)+1,(n)+1))\n",
    "\n",
    "PriceNodeEurCall[(n),:] = H0[n][:]\n",
    "PriceNodeEurPut[(n),:] = H1[n][:]\n",
    "\n",
    "for i in reversed(range((n)+1)):\n",
    "    for j in range(i):\n",
    "        PriceNodeEurCall[i-1,j] = ((PriceNodeEurCall[i,j])*s + (PriceNodeEurCall[i,j+1])*q)*exp(-z)\n",
    "        PriceNodeEurPut[i-1,j] = ((PriceNodeEurPut[i,j])*s + (PriceNodeEurPut[i,j+1])*q)*exp(-z)\n"
   ]
  },
  {
   "cell_type": "code",
   "execution_count": 6,
   "metadata": {
    "collapsed": true
   },
   "outputs": [],
   "source": [
    "#American Option Node price\n",
    "PriceNodeAmCall = np.zeros(((n)+1,(n)+1))\n",
    "PriceNodeAmPut = np.zeros(((n)+1,(n)+1))\n",
    "\n",
    "PriceNodeAmCall[(n),:] = H0[((n))][:]\n",
    "PriceNodeAmPut[(n),:] = H1[((n))][:]\n",
    "EPAc = np.zeros(((n)+1,(n)+1))\n",
    "EPAp = np.zeros(((n)+1,(n)+1))\n",
    "\n",
    "for i in reversed(range((n)+1)):\n",
    "    for j in range(i):\n",
    "        PriceNodeAmCall[i-1,j] = max(((PriceNodeAmCall[i,j])*s + (PriceNodeAmCall[i,j+1])*q)*exp(-z),H0[i-1][j])\n",
    "        PriceNodeAmPut[i-1,j] = max(((PriceNodeAmPut[i,j])*s + (PriceNodeAmPut[i,j+1])*q)*exp(-z),H1[i-1][j])        \n",
    "        if((H0[i-1][j] > (PriceNodeAmCall[i,j])*s + (PriceNodeAmCall[i,j+1])*q)*exp(-z)):\n",
    "            EPAc[i-1][j] = 1\n",
    "        if((H1[i-1][j] > (PriceNodeAmPut[i,j])*s + (PriceNodeAmPut[i,j+1])*q)*exp(-z)):\n",
    "            EPAp[i-1][j] = 1\n",
    "\n",
    "for i in range(n+1):\n",
    "    if(H0[n][i] > 0):\n",
    "            EPAc[n][i] = 1\n",
    "    if(H1[n][i] > 0):\n",
    "            EPAp[n][i] = 1\n"
   ]
  },
  {
   "cell_type": "code",
   "execution_count": 7,
   "metadata": {},
   "outputs": [
    {
     "data": {
      "image/png": "[encoded data removed]",
      "text/plain": [
       "<matplotlib.figure.Figure at 0x1587f4db6d8>"
      ]
     },
     "metadata": {},
     "output_type": "display_data"
    }
   ],
   "source": [
    "#Plot for puts\n",
    "\n",
    "Ones_x = []\n",
    "Ones_y = []\n",
    "Zeroes_x = []\n",
    "Zeroes_y = []\n",
    "\n",
    "\n",
    "for i in range(n+1):\n",
    "       for j in range(n+1):\n",
    "            if(EPAp[i][j] == 0):\n",
    "                Zeroes_x.append(j)\n",
    "                Zeroes_y.append(i)\n",
    "            else:\n",
    "                Ones_x.append(j)\n",
    "                Ones_y.append(i)\n",
    "\n",
    "top_ones_x = []\n",
    "top_ones_y = []\n",
    "for i in reversed(range(n+1)):\n",
    "    for j in reversed(range(n+1)):\n",
    "        if(EPAp[i][j]==1):\n",
    "            top_ones_x.append(j)\n",
    "            top_ones_y.append(i)\n",
    "            break\n",
    "            \n",
    "            \n",
    "pylab.plot( top_ones_y,top_ones_x,'-b',label='Exercise frontier')\n",
    "zero=plt.scatter(Zeroes_y,Zeroes_x, marker='+', c='r',label='Hold')\n",
    "one=plt.scatter(Ones_y,Ones_x, marker='^', c='g',label='Exercise')\n",
    "plt.legend((one,zero),('Exercise', 'Hold/expire'),numpoints=1, loc='upper right', bbox_to_anchor=(1.5, 0.5), ncol=2, fontsize=8)\n",
    "plt.show()"
   ]
  },
  {
   "cell_type": "code",
   "execution_count": 8,
   "metadata": {},
   "outputs": [
    {
     "data": {
      "image/png": "[encoded data removed]",
      "text/plain": [
       "<matplotlib.figure.Figure at 0x1587f8129b0>"
      ]
     },
     "metadata": {},
     "output_type": "display_data"
    }
   ],
   "source": [
    "#Plot for calls\n",
    "\n",
    "Ones_x = []\n",
    "Ones_y = []\n",
    "Zeroes_x = []\n",
    "Zeroes_y = []\n",
    "\n",
    "\n",
    "for i in range(n+1):\n",
    "       for j in range(n+1):\n",
    "            if(EPAc[i][j] == 0):\n",
    "                Zeroes_x.append(j)\n",
    "                Zeroes_y.append(i)\n",
    "            else:\n",
    "                Ones_x.append(j)\n",
    "                Ones_y.append(i)\n",
    "\n",
    "top_ones_x = []\n",
    "top_ones_y = []\n",
    "for i in reversed(range(n+1)):\n",
    "    for j in reversed(range(n+1)):\n",
    "        if(EPAc[i][j]==1):\n",
    "            top_ones_x.append(j)\n",
    "            top_ones_y.append(i)\n",
    "            break\n",
    "            \n",
    "            \n",
    "pylab.plot( top_ones_y,top_ones_x,'-b',label='Exercise frontier')\n",
    "zero=plt.scatter(Zeroes_y,Zeroes_x, marker='+', c='r',label='Hold')\n",
    "one=plt.scatter(Ones_y,Ones_x, marker='^', c='g',label='Exercise')\n",
    "plt.legend((one,zero),('Exercise', 'Hold/expire'),numpoints=1, loc='upper right', bbox_to_anchor=(1.5, 0.5), ncol=2, fontsize=8)\n",
    "plt.show()"
   ]
  },
  {
   "cell_type": "code",
   "execution_count": null,
   "metadata": {
    "collapsed": true
   },
   "outputs": [],
   "source": []
  },
  {
   "cell_type": "code",
   "execution_count": null,
   "metadata": {
    "collapsed": true
   },
   "outputs": [],
   "source": []
  }
 ],
 "metadata": {
  "kernelspec": {
   "display_name": "Python 3",
   "language": "python",
   "name": "python3"
  },
  "language_info": {
   "codemirror_mode": {
    "name": "ipython",
    "version": 3
   },
   "file_extension": ".py",
   "mimetype": "text/x-python",
   "name": "python",
   "nbconvert_exporter": "python",
   "pygments_lexer": "ipython3",
   "version": "3.6.3"
  }
 },
 "nbformat": 4,
 "nbformat_minor": 2
}
